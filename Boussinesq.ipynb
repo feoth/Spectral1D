{
 "cells": [
  {
   "cell_type": "markdown",
   "metadata": {},
   "source": [
    "# Boussinesq equation"
   ]
  },
  {
   "cell_type": "markdown",
   "metadata": {},
   "source": [
    "$$ u_{tt} - u_{xx} - \\varepsilon\\frac{\\beta}{2E} (u^2)_{xx} + \\delta^2[d_1 u_{tttt} + d_2 u_{xxtt} + d_3 u_{xxxx}] = 0 $$"
   ]
  },
  {
   "cell_type": "code",
   "execution_count": 29,
   "metadata": {},
   "outputs": [],
   "source": [
    "import numpy as np\n",
    "import scipy as sp\n",
    "import scipy.integrate\n",
    "import matplotlib.pyplot as plt\n",
    "from matplotlib import animation\n",
    "import matplotlib\n",
    "from IPython.display import HTML\n",
    "plt.rcParams['animation.html'] = 'html5'\n",
    "from log_progress import log_progress"
   ]
  },
  {
   "cell_type": "markdown",
   "metadata": {},
   "source": [
    "Domain and initial condition function:"
   ]
  },
  {
   "cell_type": "code",
   "execution_count": 30,
   "metadata": {},
   "outputs": [
    {
     "name": "stdout",
     "output_type": "stream",
     "text": [
      "Beta:             -27642924.800000004\n",
      "Length parameter:  0.008247866715674151\n",
      "Linear velocity:   1868.3056596113627\n",
      "Soliton velocity:  1868.9720145902224\n"
     ]
    },
    {
     "data": {
      "image/png": "[encoded data removed]",
      "text/plain": [
       "<Figure size 432x288 with 1 Axes>"
      ]
     },
     "metadata": {
      "needs_background": "light"
     },
     "output_type": "display_data"
    }
   ],
   "source": [
    "# domain\n",
    "dt = 5e-6\n",
    "t0, tf = 0, 5e-4\n",
    "T = np.linspace(t0, tf, int((tf - t0)/dt + 1))\n",
    "pN = 200\n",
    "xl, xr = 0, 1\n",
    "X = np.linspace(xl, xr, pN, endpoint=False)\n",
    "\n",
    "# high frequency range for de-aliasing\n",
    "hfreq1 = int(np.round(pN/3)) - 1\n",
    "hfreq2 = int(np.round(2*pN/3)) + 1\n",
    "da = np.ones_like(X)\n",
    "da[hfreq1:hfreq2] = 0\n",
    "\n",
    "\n",
    "# elastic moduli\n",
    "rho = 1.06; E = 3.7; nu = 0.34; l = -18.9; m = -13.3; n = -10.0 # PS\n",
    "c = np.sqrt(E/rho*10**6)\n",
    "R = 0.01\n",
    "\n",
    "# nonlinearity and dispersion coefficients\n",
    "beta = (3*E + 2*l*(1 - 2*nu)**3 + 4*m*(1 + nu)**2*(1 - 2*nu) + 6*n*nu**2)*10**6\n",
    "#d1 = (1 + nu)/4; d2 = -(1 + nu + nu**2)/2; d3 = d1\n",
    "#d1 = 0; d2 = -nu**2/3; d3 = 0\n",
    "d1 = 0; d2 = -nu*R**2/2; d3 = 0\n",
    "\n",
    "# amplitude \n",
    "A = -0.001 # compression wave\n",
    "#A = 0.15 # stretch wave\n",
    "\n",
    "# localised wave\n",
    "def f(x):\n",
    "    #return (1 + np.sin(x))**2\n",
    "    #return np.sin(x)\n",
    "    return np.cos(2*x)**2 * ((x>7*L/16) & (x<9*L/16))\n",
    "\n",
    "# soliton solution of the equation\n",
    "D = np.sqrt(-4*(d1*(A*beta*eps + 3*E)**2 + 3*E*(A*beta*eps + 3*E)*d2 + 9*E**2*d3)\n",
    "                  /(3*A*eps*beta*E))\n",
    "V = np.sqrt(c**2 + A*beta/3/E)\n",
    "def soliton(x, t):\n",
    "    # shifted argument\n",
    "    arg = ((x - V*t)%(xr - xl) - 0.5)/D\n",
    "    #arg = ((x - V*t) - 3.0)/D\n",
    "    # soliton and it's time derivatives\n",
    "    u = A*np.cosh(arg)**(-2)\n",
    "    v = 2*V/D*np.tanh(arg)*u\n",
    "    w = 2*A*V**2/D**2*(-2 + np.cosh(2*arg))*np.cosh(arg)**(-4)\n",
    "    q = 4*A*V**3/D**3*(-5 + np.cosh(2*arg))*np.cosh(arg)**(-4)*np.tanh(arg)\n",
    "    return [u, v, w, q]\n",
    "\n",
    "print(\"Beta:            \", beta)\n",
    "print(\"Length parameter: \", D)\n",
    "print(\"Linear velocity:  \", c)\n",
    "print(\"Soliton velocity: \", V)\n",
    "\n",
    "plt.plot(X, np.abs(soliton(X, 0)[0]))\n",
    "plt.show()"
   ]
  },
  {
   "cell_type": "code",
   "execution_count": 17,
   "metadata": {},
   "outputs": [
    {
     "data": {
      "text/plain": [
       "0.0005352443241048769"
      ]
     },
     "execution_count": 17,
     "metadata": {},
     "output_type": "execute_result"
    }
   ],
   "source": [
    "1/c"
   ]
  },
  {
   "cell_type": "markdown",
   "metadata": {},
   "source": [
    "Derivative function"
   ]
  },
  {
   "cell_type": "code",
   "execution_count": 19,
   "metadata": {},
   "outputs": [],
   "source": [
    "#frequencies\n",
    "xi = np.fft.fftfreq(len(X))*(len(X))*2*np.pi /(X[-1] - X[0])\n",
    "\n",
    "def der2_reg(t, y):\n",
    "    u, v = y.reshape(2, -1)\n",
    "    u2 = np.fft.fft(np.fft.ifft(u)**2)\n",
    "    du = v\n",
    "    dv = -xi**2*(c**2*u + beta/2/rho*u2) / (1 - d2*xi**2)\n",
    "    return np.concatenate((du, dv))\n",
    "\n",
    "# when d1 = 0\n",
    "def der2(t, y):\n",
    "    u, v = y.reshape(2, -1)\n",
    "    u2 = np.fft.fft(np.fft.ifft(u)**2)\n",
    "    du = v\n",
    "    dv = -xi**2*(u + eps*beta/2/E*u2 + delta**2*d3*xi**2*u) / (1 - delta**2*d2*xi**2)\n",
    "    return np.concatenate((du, dv))\n",
    "\n",
    "# three dispersive terms\n",
    "def der4(t, y):\n",
    "    u, v, w, q = y.reshape(4, -1)\n",
    "    u2 = np.fft.fft(np.fft.ifft(u)**2)\n",
    "    du, dv, dw = v, w, q\n",
    "    dq = -(w + xi**2*(u + eps*beta/2/E*u2 - d2*delta**2*w + d3*delta**2*xi**2*u))/d1/delta**2\n",
    "    return np.concatenate((du, dv, dw, dq))"
   ]
  },
  {
   "cell_type": "markdown",
   "metadata": {},
   "source": [
    "Solve and plot"
   ]
  },
  {
   "cell_type": "code",
   "execution_count": 23,
   "metadata": {},
   "outputs": [
    {
     "data": {
      "application/vnd.jupyter.widget-view+json": {
       "model_id": "6b9cbe28cbab4ee4b48d611430001954",
       "version_major": 2,
       "version_minor": 0
      },
      "text/plain": [
       "VBox(children=(HTML(value=''), IntProgress(value=0)))"
      ]
     },
     "metadata": {},
     "output_type": "display_data"
    },
    {
     "name": "stdout",
     "output_type": "stream",
     "text": [
      "Warning: more than one iteration was done ( 5 ). i =  1 , error:  0.0002835106621299383\n",
      "Last error:  0.0007690932811717936\n"
     ]
    }
   ],
   "source": [
    "# de-aliased initial conditions\n",
    "sol = soliton(X, 0)\n",
    "u0 = np.fft.fft(sol[0])*da; v0 = np.fft.fft(sol[1])*da\n",
    "#w0 = np.fft.fft(sol[2])*da; q0 = np.fft.fft(sol[3])*da\n",
    "#u0 = np.fft.fft(f(X))\n",
    "#v0 = -1.j*xi*u0; w0 = -1.j*xi*v0; q0 = -1.j*xi*w0\n",
    "#v0 = np.zeros_like(u0, dtype='complex')\n",
    "#w0 = np.zeros_like(u0, dtype='complex')\n",
    "#q0 = np.zeros_like(u0, dtype='complex')\n",
    "\n",
    "# difference between soliton and numerical solution\n",
    "def error(t, u):\n",
    "    return max(abs(soliton(X, t)[0] - u))\n",
    "\n",
    "U = [sol[0],]; T_saved = [t0,] # containers for solution and time\n",
    "err = [0.0,]\n",
    "uk = np.concatenate((u0, v0))\n",
    "ok = True # every loop iteration one iteration of RK is done\n",
    "\n",
    "for i in log_progress(range(1, len(T)), every=1):\n",
    "    sln = sp.integrate.solve_ivp(der2_reg, (T[i - 1], T[i]), uk, method='RK45')\n",
    "    # extract solution\n",
    "    u, v = sln.y[:, -1].reshape(2, -1)\n",
    "    # dealiasing\n",
    "    #u *= da; v *= da;\n",
    "    # save solution at each n-th time-point\n",
    "    if not i%100:\n",
    "        U.append(np.fft.ifft(u).real)\n",
    "        T_saved.append(T[i])\n",
    "        err.append(error(T[i], U[-1]))\n",
    "    # check that each loop iter only one iteration of RK is done\n",
    "    if len(sln.t) > 2 and ok:\n",
    "        print('Warning: more than one iteration was done (',len(sln.t) - 1,'). i = ', i, \n",
    "              ', error: ', error(T[i], np.fft.ifft(u).real))\n",
    "        ok = False\n",
    "    # define next initial condition for integrator\n",
    "    uk = np.concatenate((u, v))\n",
    "    \n",
    "print('Last error: ', err[-1])"
   ]
  },
  {
   "cell_type": "code",
   "execution_count": 28,
   "metadata": {},
   "outputs": [
    {
     "data": {
      "text/html": [
       "<video width=\"576\" height=\"288\" controls autoplay>\n",
       "  <source type=\"video/mp4\" src=\"data:video/mp4;base64,AAAAHGZ0eXBNNFYgAAACAGlzb21pc28yYXZjMQAAAAhmcmVlAAAzWW1kYXQAAAKtBgX//6ncRem9\n",
       "5tlIt5Ys2CDZI+7veDI2NCAtIGNvcmUgMTQ4IHIyNjQzIDVjNjU3MDQgLSBILjI2NC9NUEVHLTQg\n",
       "QVZDIGNvZGVjIC0gQ29weWxlZnQgMjAwMy0yMDE1IC0gaHR0cDovL3d3dy52aWRlb2xhbi5vcmcv\n",
       "eDI2NC5odG1sIC0gb3B0aW9uczogY2FiYWM9MSByZWY9MyBkZWJsb2NrPTE6MDowIGFuYWx5c2U9\n",
       "MHgzOjB4MTEzIG1lPWhleCBzdWJtZT03IHBzeT0xIHBzeV9yZD0xLjAwOjAuMDAgbWl4ZWRfcmVm\n",
       "PTEgbWVfcmFuZ2U9MTYgY2hyb21hX21lPTEgdHJlbGxpcz0xIDh4OGRjdD0xIGNxbT0wIGRlYWR6\n",
       "b25lPTIxLDExIGZhc3RfcHNraXA9MSBjaHJvbWFfcXBfb2Zmc2V0PS0yIHRocmVhZHM9OSBsb29r\n",
       "YWhlYWRfdGhyZWFkcz0xIHNsaWNlZF90aHJlYWRzPTAgbnI9MCBkZWNpbWF0ZT0xIGludGVybGFj\n",
       "ZWQ9MCBibHVyYXlfY29tcGF0PTAgY29uc3RyYWluZWRfaW50cmE9MCBiZnJhbWVzPTMgYl9weXJh\n",
       "bWlkPTIgYl9hZGFwdD0xIGJfYmlhcz0wIGRpcmVjdD0xIHdlaWdodGI9MSBvcGVuX2dvcD0wIHdl\n",
       "aWdodHA9MiBrZXlpbnQ9MjUwIGtleWludF9taW49MSBzY2VuZWN1dD00MCBpbnRyYV9yZWZyZXNo\n",
       "PTAgcmNfbG9va2FoZWFkPTQwIHJjPWNyZiBtYnRyZWU9MSBjcmY9MjMuMCBxY29tcD0wLjYwIHFw\n",
       "bWluPTAgcXBtYXg9NjkgcXBzdGVwPTQgaXBfcmF0aW89MS40MCBhcT0xOjEuMDAAgAAAF2RliIQA\n",
       "Fv/+99M/zLLr9zm146j3op4mX0N1JQGblsTtOoAAAAMAAAMABBdb7f/iXIPAARWomNHzzwe8HkZ3\n",
       "hFbXYlnbaKaKCYtDCV5LPVjMWAgdKXoW8FuEv8FgXnkZNYfU6iUiPVCk5RYj4m288kTErDJlYGe2\n",
       "vLM2xweELjupk1EoXZU2dSUuMR3S4QBlDCCieqpzcYEHny3dzOgEd6Joixic0zEEnkanrsBWVLMw\n",
       "zjBoBEUg2h1oJjKn9S3QuoqVJjbLpVUmrNsANoblujlcWU/ohADc61hd9T3TV8gAKSW+fHTa1c1x\n",
       "OkYyi0xynMSp3rjEgdUpaK8eXcgAVLTmWGcpUghP95wwSk8GL9ckjR9qtgqZeD83Q/x9gubaB5BE\n",
       "GsQzo5J1MdJrz9cSztEExeQFG7pqx9n4LNzJNTZeDIRuaVmeJmi7+GQTRA0GuRmX4iEqkC4INoV1\n",
       "qb0jrjS4tW7k1Eyn0VpS4jYmsbxeIHZnYQEyHWqkfb1o4e16Srcefex/OoDCcfWh3x8FSVnsSZJz\n",
       "bqrZOYztO3+o7pvZFbLlXFTM3n+y7bWp92Z0FyDyfKixUn07/e2ucgTHp17zmiVe9Na4Mhi30nN4\n",
       "65ElaC1rNHfGcL7TzKrkS69hjQtG5WuTWoGrTxNVhtPSXEYH74+6uq7XKe0k1MwHGDF/RzkSr/tT\n",
       "78Ufc/0khquFPtzplXWJge/kUNjrkXg/AyT61tQnCRHvPU8mXR1FWbXfLcn815xCQs6Nt3HvN6qn\n",
       "9h7KikX7U6hXwIQqz1l6ksK9X+Z4EZS83vFGydEN+bNj9bxfO3brJzIGRLB1pfWFU181X55ZdXrW\n",
       "Rg27lqNg8BiKj81iKUc/fPruZjT7+6ZK0YkIWRBMuJmAchvjItQP2XWx+FCvxs1gZftt6SAUeiBi\n",
       "7YyZReteeB5fDAi0U0gxXVQUILdy9ODDstr1UXAq9xA1BsuYRcnkSaqzI+42haFWdIFsYeAfBT1n\n",
       "fFwPITE14nTBuiqT3rlS+qq21OC/qGRa+6nlXBBn2OZIjJTMWHK8/ASax2x7MRqFltUkxUGn1Fnf\n",
       "fPd7Ll3u65vjGXayNiiqL8m3AvomIhoaXnPChcvOReW2UcVr3DHsaFp4TdTOaEfbW8wIhDNKNMUy\n",
       "iDumKa14DdlYURCoF0uTdvJxsQ4cPI8Tg1DXJQn+wgYwQD4QXVdHWd+vngVjRLaa0er8EoJbH2Qw\n",
       "x9SdYLAfxcbtMHO27ZbPTwLGqgn2B1GwpCTY39rJWa78D8ssjjbhaRQsnWGFoVonsNS6J3Vf3ACq\n",
       "ETxZffRARyJCbC1YzKU6UL1aaVCboTtp9YE6efjWQWBWWOy/qjMErzlD16G5KC03k4hYWllAAA41\n",
       "DYZl+Q/L5Xc9W8vufdsMo7aLmuQpVF4YGWnIHXyGLjLUkd6hXygNLpflsPmVsmyV4vEeturKK+3T\n",
       "uO2IPTd9J11NHrssZOT3E9qxtp5fMcgswCu0BYcIPaFp+Cp4DYvG1reuo/dfPE/acZUx3Vwui8Zj\n",
       "UA6bo0i9kjqooJvvC/FBQT4wU1PJaVZLv0J1FxxLk+7rAWfq8/U5SJx1M6m7LgPdX4gPSvt016Z1\n",
       "V1YN+9l0F3XiEVAtqxWazpu7OpBuolfCuapdtgR+O6oPlj0BnRmztbPM9x/lMt6fRLblwe0SOBdl\n",
       "CzB4CgE9AEADcZ/Zs+0d4BI1yqrmpBaTbTCzfpMUF33eMx5u5oztrABLWlP5zFLbIdnEwwcdGjTB\n",
       "Ge513SGo2lobgqDUJcSHmPlrxDyjJN47H5nf/1zCrt8koyWnAlE9vsGpIJuebfrVvSXVFRDhrgJr\n",
       "vh8gMoz7IZz/5z7pR9mhVOBrtBTvepbyk9tcGHZ4jtoF0s0R1tj1bqiuOH5V3BQt1Zmu4itJ/6o0\n",
       "qEMmeXsFOnYdoLewnO7fOuVnnXxpIaUCcw8d1C5q1u+d0r3RAAIGZoOgviB2d6ZFxaNZOxA0quEw\n",
       "uhVdUrTFo/P1gGi9JsbT9gxevbbmZNYfhgjQGFGIXtbXTyXLbQf2JDC/Rb7iMbRynkemsssI9xSt\n",
       "wvvVbgU26TGnK3wjIwbEM9JWD3lr/CoZWwW8PZ5LN3pu/7qKZbZXnAe6FBvtTU+bQ19diJEwfLVZ\n",
       "pdDsULipcI0irz1UYEK/i+uo+yk8+br//uNB8JcwoiwLQUwX/YMg2YwZv97L9JpG++mQ29zEudnv\n",
       "dfcbjCkgJ4vfwb29Xz+zcvUX96JB54yMPhx2v6blEbIXzwwZ0pi4bsnQwQ9fPXFMRzNvXcxkXLuy\n",
       "ixaYBj1xlUlXWJ3CCRlcLfTnCmWFcdLGm6tfd1sjry29sR4S8dvLdkLGES5GEIFuc3TmJtBepyQZ\n",
       "LwQm3l6AaTYKMWi0CSDK3legDfELmCMuXbfiuKdve0IKW1w84ACGmTAFj2nmXZt62tqglMOBSiZZ\n",
       "I0pwVynV1pJ8jKIjmDDXbMDXovxRg5PdEVd+doE9K/7iiJ8XRWSk3bzhECCJBKKid0g+UU7RP6mc\n",
       "5VHUWIwwZVZ4qX98RfOJxYwFGwj9zGgKIvUV69a+VMUMmB94UIhgEclEMJGJiTKS/bW7Zec9MxvG\n",
       "t29FdRwqG5KcHT9YwuQwklQhOiqWHnC1R7CsrnLaPXGufE62ZFsXaPgBbCQIdVPev/8CwSJqT4f6\n",
       "cTTLNPntgLFu3rtyefoQ5h8e9XkFX4+ulWk88NmMLFd8qwrHL1mHdFIgNKJHdNKG/eF9TX40J03K\n",
       "o+g+eu7ikIrniztI9Ny5Msx7KyFOyvzf4ZzoPv6C+hPUokRuAWMZP9Wl8+SHmdBejhNl2pbfu6yB\n",
       "c3HEskhh3h04FYPnWAstO29OJP8Xx90FqhJ9Y2/AcMKG9VxVcgsmtlMp7ED8ijmAjKrsHUwMk6sZ\n",
       "CuyymRzls/yelxgk1AJxsSoPJIHVx2j8N8WJG/LnYGy2kGHXTBdoifbORLhyAyKHAeYiwFTp5gg4\n",
       "BPXVmepuKmL6yDLJopHY1SX0TZSjx6VJ8Jg/jPhVF5cgmtmLovYUgA8otylrhnwN/gum7Atr364E\n",
       "5LX1xOcEezcXNXdBm1dRx3MKR/TIGsJMN/WS6tNGpwXgjzXcaXuqZEq+LrZ95oquKS9kWzpZeMbE\n",
       "eQZDNq/kNrt+QkN1+QHZ08Ra8BTGnNdMBxGE7Aols95MXnw9J4RtD0MKpF0fENevB2NkzRDwHjn0\n",
       "W10mevnTj85kHfm+WQtiVlI9/1GttzSoGL80LAcZEnC3PulJpRDalV+C+ocJbOFFz6AWMZf+WN7b\n",
       "nOqgT7oq9r4wn4pvpi/d1fEBKPjmzXvzt8/7VF3PifmqjowOE+ZuQPFkRqOGxQjgtkZDxYlzc6hX\n",
       "j2AqRbHg30dY3dPkZUfzGsio13j5oKWFdNlocyVqAEgWoqDEcJWLgYNsSqn8aCS/bA/ZTcqED8CD\n",
       "UbLNL6yXMZ+9uORM9/9FbuVKNwFM4nimt3xKYgP1ZzLp4G/xTSwvxfIJ+JLV9+fEnzoy5WbwFzwi\n",
       "EbfhJS8jG6ghfOyJNGzNBfITaoGSKiw7lrgGfgqaplIn4h+tH95wtL4GN20EGzQerQ+JEB3jleSb\n",
       "fJKK60ydbzTKqmE1JHpV/cjr/xEj+iOUyMi/q3baiBur+UDUy1CBLWS/QtFvDaGXBhRUqswmbqyB\n",
       "Us7r2NVs1iqphLLySJyyOFf8isYu/Fjst30h2mko+CIfnsfCuedz9FZthy9XHqlp0Hq3n+VprQsP\n",
       "DdwlqoMElem1f8/4YfYWp2X2CWRlhmOBGgV9U6D+T0B2gV3LdP4+fIDnsJ7xgcgb7F22+fEcc40A\n",
       "G+0/Cyrp3eBQHzjrinUlHdU9fuGt2TaCzOgZD2rHrH5elBxAYrwe3YcADGnpsXj3N27+IOUW/ZnR\n",
       "spQdj5gx9BrBjzt4UlMK8vuAFcKwDkWPdFzN/kE8pbEFJ+/gVXI/4gqCpsjCQUm69mDlyZwzCz/L\n",
       "V+REFtYs/pCtZqs7CrjPClKpa8iiL4AwyJSpsPrS1DED9bKnK6i5S/4oMRYalnEuZHxNhkawyxIP\n",
       "0D5Bt9355Q0zy5CxA2e1sUpdM/KBmAgLAM1mvTwzj+ysDvsjc3GZ1Z2N2fe21zVtrKmBamDsyVI0\n",
       "EjR73s1UonXobSQK2GlJaTFOdT8x7f/R+VweXSpry0q82Ohwc0Wjt2IVyEJ7buxX8RnxO9fvemX/\n",
       "+vSMScOfRTxEUBINHwsSsKK2KK3Ut4g8Vfx503LsdZbM8tcM7QKNjM69T22A2jgYBtUOt+GkOQxo\n",
       "4xHUGBIeuQfdgs+4wD9yusBjNEBJte8j3bpZG42VSdWArXWy0wARJZuS8Fm5m+2RUjScdspkP01q\n",
       "1pxpSVUGthTq8SrYOE2m6wjJtcwdScXBUNWprhB2NM+secNrsWahGN3KPMsHweOiYExJwf+D+nNd\n",
       "y7aWxL2Ij/jsZr2ozN2kcNovuOTXSAndxzC3tUIdxwtKREPAN6WT1C40WIysVM5beKUWZ9jqyfPg\n",
       "3x0qzWQBEChHeDGgfhGDlWVWJPZ5lomHKkFZ4bJ/XoFSHp2p0q1qpYDfPfpf4SGNReQeYhVTx956\n",
       "i2WU4xkPpmjI1GKh06XMaLNWBq+G63L8OS+0R9ptSWKufWq1xTHpkyAAnwa7LTf3wk6fm86MNMPv\n",
       "Bm1J6h3fj0e9zPq6o8VgG5jfRlf7FhXoz35LHG8G+BgMCof+VHErEm2UZLSiSBZY4AXR73+bpMpQ\n",
       "qWjzE4/J2K/F68GpjQy7MdDTE13Ay/r+GP+HFI9JeK05VpYc4BUXfD1hUX5sRcxPddRGuG0bRiAw\n",
       "5GS7A3jWorNi1xc5KQaHJniYZTHj42gk8himf50HjrAb7jMoGFnuMkPZKMl+gg7zdLw77NQIuhzQ\n",
       "j4Z0hw28UVGCoCJZML8cUqIk3go+u+2/h/MTDKV2mcDM9fuIXYjOkHc6v93NqFXMWiuzJ4G8L+9I\n",
       "f+YoouRs38tl4v6OnFaFwWhYm0m6eOoj//MjotzktYiHWjBVsylqkaqVhTCdCRlmDQO/24XvqyTw\n",
       "mVXTBlU6iAicRveiVVk8Iy6eXY0s2OqyAg4rbtjjMPDG+q0/+iu27DiutexFSKAb4EO9YaaVOTO0\n",
       "iSBD7gQKQrCqBgkqYwR2+IftZm7qByIkb++/RY6ljZZWLVpDjDaAVac7hwdO0vdhq5xVznw8NTiU\n",
       "Tm527vLUhLKlE4S//QM98OVjnz16jEt9mUsfzc7iG77EBtBnTfva4SrWW4yxRfTpmVheNXkxNtca\n",
       "cJPE7l+WbIa0Z61/PG2MV2zO4+DgjV86dnzPMWzxmNzvOz67j2/bMZlrHH6YwGuJb+bfjbXC0Q4Y\n",
       "K9+QI8/ltg3CbmhT9+aPf2uHGsXdcyjxfXTPzF8pAahn62wL2esJq5tYO8T8Ah/joA4mGTy3l7cG\n",
       "huvBRzdcW6Q7YkRDogPKiwgOZsamjAlhbI4gJGAwGjUcMt5hd0mcutboB489V/M+VWoEbUKi3hTG\n",
       "J3W97A12cHLwjCzh9FCJKusAcYBNC95SuXKJI/IHbcgk1dVmKaibxhy9ygknnqRAexFcL1PLXZPx\n",
       "CJiN7r3HDVyhOb8zSa10XfdI5/emQ2wugTbpEIScZc6SeerwT3q/u8Oi7RWtX5zPoRRcrd5JAf//\n",
       "/r2Fxf0VjKO/o/2hj2A1NbNqWOuC3UN4MDQL9R1XBLviwCa7w45mmfnfgF3dkLIiP2Bg8iMPaWlU\n",
       "SEoeQPtdIYoaaUUO0wTjv9WJOpMnwPQa2ZYkSi2Mtk8KU1fZV+slTI1g8YjewcsgKo9IVpHkElWL\n",
       "aXfi/QaOwi89UzIuv43Un9NkQof9MDBdrAT04hWlsYwjSGdelkr68Q0N5N4twjQiBRc39S75Gr54\n",
       "ne+8I56NRrPQ4yBjUsqSU0qUvtMiJZ6xJ15nw5TMf3u7GrRMdsAMWl9sGw1OaH68xhTyxLdpBdyq\n",
       "t/9GjtLdbDA5WVMRjMnfVMvsSnv9C+wMyk6NlSbYpBYyoqdqC8dwdh2/wwzrNnf//QOtw/x69dI/\n",
       "o4leoZ6vkKZ/mUT6rieeBjvZUGDvJSpxIoDZDvPXxi1e+g7BjLU2uHMZfQ302fRY/8Har2V82tBB\n",
       "VDgJN5BKYAhCVsnkOIC9AZTcfvUuZpk5JcqtbJfgieEXGXsGyG2jR4Tmup0fqVbrihkI6Vk3Z6dN\n",
       "wWoTG1QDQYZ2LHa3izjN2X/4DCN7+xcvrLxJU+ybCaYU+339sxar81Fd0W/Ca1T4YncPG8c8GQWE\n",
       "88L7Ks4xYyEvY2+/S704vjsb6XnnAAIxOR5lwubXo9qwVA326Ymv05QsIRQqVuRljXwGg0T7TW/c\n",
       "UwLt2tAM6Cy3wv/bKlf+Nh+1Y6sODrfYedAQZwzzlZSSq8wKO7NZ0wSnWpcjKuucswn7+hZQiO/4\n",
       "3cPfOWuWAUtcvKrsbiVcPpvKFDOfYfeWVhO7oB9XrOe9ooKButNnE0sLf/hhNhYm1wU2X4E0/thC\n",
       "dpPbdo/KlVWwSyWH5KQ1o5f0XfzLYK7/0MkNLq2q3JLI/2pOMAFu2wVgrwsJXIG+TJmXU+REH+7+\n",
       "axbGk0m2ynpDUESsRmdhegzM4yRTk9ECX/rrE5ZyIzxiXeFRmYF/Uhw7eb9wK/Wpiy0a1Lj4c/Vz\n",
       "L29j/H2cW29D0m3phoLzAxUV2EDH8biZz/6BVqtUx1gWaWr78E3C2RMqqQG3LxzM4sqrbeElOVtd\n",
       "MgyL/g72qz5Dkza3jDxFlPOsuQlfVxfvl0owKdzLYuL50JaWBDFezKiQuQNVfiIrkSDqzSOBbveL\n",
       "y59l0pKbWbPxb/jytTCJdefh9zdp2Tb1G1mXAzzcXKpXbMnRXJ/PbcCeraxWucj/3KKLDNV8GL7+\n",
       "QnsKLcWo9uNYCMUhU1MuURf77aqbzgUlAt72hwKbADffeq38MP67MnDwoJfngpHajkIojpXyurec\n",
       "otbUBbBivjHCJRI3No3oa2z5O1Vc68Dk9TtTx14h8WCtRiwtxWT9JJvPIwtCmLMkZ5K7owcJAqcV\n",
       "QiDDu7/ap9b5F05OPxtRJJyRK1e1eEfH1IwvEyzaJgCyZKm8bnt0QDpYaSYwT3Bczumi/6u274kA\n",
       "EdehIyrDgwDfUkKvCCPxvwzIF3rflG9n0WmMYGoQ/dwrtGHZN8wewlNk2r3b2INQqty3wGagvDcM\n",
       "YdFM0U+GFkKNBlwAqjf6npIke4ufM/hwBoXO4lNesaDgrjWZw1hu4CPdI4FtRgpDSgBn9dzbMtp1\n",
       "y3AriJ/qKS33ebn51BP14VVfs0vzGm1B7LPP96ZgIBOZgI7e6jK4b01QOEiDdr9m/7u2srn2+3t8\n",
       "GgJtWQpsYXm+YWIJMGcCx+LIK/VN3J4t6/u2Cc8Ql4yxsTfIj6T46z7oR7W0f0Nkdfu22Lncg6Wn\n",
       "7GA7368vRQjqQxHOXBxrMAREOj4Fyc6Lu+37P2Ch6mke3n5Okda8bS8JtU9b7kP4ylEcULa1bc44\n",
       "1gWURV1+HMigq2L1gMFJlnmffv6XqzvTZvy82hgllBYwXOaS+dVFT6w/GqWvaTZxPQyxOFNqrPkG\n",
       "y+VkQ+HxC+1abCejkwxhqij/SAa+tDHg9f9kzFu9V6MZNmjjI4247j/vTsYIoQzN9D4ST4AQxAgS\n",
       "XcYd2MQitaq+yu66R+u7fHdJU/6S+99TRm4UfhSykQklGHla/xVN8afRrwlF9jzpD28bs7hYteyG\n",
       "j+vWwiJGhIp/mW11ibY4kMePKhkSzM2sq3Yoijn8rD/aL1LZhHmE/Ma5Kkbg1J7jeNjKc6+41ac2\n",
       "5OjjJVc+OwPRbeF6AwStZ4K7+FJrPL5dl+hQxoAcJYuFGCCkfGFvGtHxRT/k/sXkA7kRa4UgKFn7\n",
       "PAa3cCz7xHP9mO0ZitlyRcm4jUIuyvyXwd5gpWZf8tis5U70nWAI7mYzhXmfeE1/Q4xan5SlhCoo\n",
       "GbeX/AR7IW+JaL9Ifodd9/boGoRRlIP5/Ee+bMzZIIJ9F6ne7Du1Wydst6fqMWYDarheTyAAAl8A\n",
       "ABk0QZohbEFf/talUAavIAwAhQ24RuABj+dzl8NsMnty93am/R7ggXJuMlpGfuXt5Tb5F+YGWUOp\n",
       "xDXKICZ0hm32zb6eIvcA+NOP+Rpkm9un8+stJjrBZenhMtzoRgQlx5KakxCbFU1l8CtkTCy29KF8\n",
       "MXBba7XN5jB1N9nLfeLsYasAvfNdt1HJGQJywTs6BJb/BaFbPi/5ea/ZppMR0QXvi1sCnzKvlq+5\n",
       "T5laLRSD+K40m3ysALGNvp8otYW2zPp0U/FG8VLoQJJAb1RBbfab7t0YKRp3G4TPhULH0qqMJHi2\n",
       "E+elBdUXpHhqKJprUZlwaPTzt+5euF2NjhO2T1Bn0FFMygNmwgD9+7MCWfuR0ce8oJTPXQ/RxCso\n",
       "rHvC6Dd9BRTiRajd3A3XlBv82a/WTwdgJZOYsm45/PGEYMFsbQHTXhCXXJfbVKWnWgXAD02zIt0L\n",
       "VmEjbZYUQxTId72SIVZ2aRp1bZ+i655Wc0EkshJq1KTwKlor7otloZfkf75rJqzSblP0mZhBzPhD\n",
       "sOegertWb9M5QJN2AYlr8XxdFAM8ICGUqY67xZ/Sop7bC1e20Bx40+P9pNX0/qRZvMlNugyBt5CR\n",
       "C2ojSxhcrulgYBwQ0A774PGGuahDfvz/e5Q0nn8cDESH3WEXmlY6Np0g76vBp1wZ4K/kqr+Cagai\n",
       "ALGusHLi/uUIqjRQRpPhc/861uhBtFglz1kFP/8DmatCmxDCWz+j1IyrUNDTkKBwpEhU/bNJ4Vab\n",
       "M6T4dKR7Hq+dufsVG2qG/NmH5bM0Tr4eQ1POOOvlNGEt41/gHUSlFIetgTGsfxWfTFd4qM2Uxr2d\n",
       "uCeUQ3xP6mLRz1A9cOYJHaLM075G2FAhKB0Sc5JbLNfyG0kKD8vytjC6yi7UHSEjo/KzpnAQWeah\n",
       "JnPyyHJ0eAFazdrAF+AjM7R6KVBtk+RBhsOD9eqxmuAkLQBW9/2pUKMoqiI96pJV0rh7dErffHO8\n",
       "IfarKf17Lz6xd8qeWm2tCNMvton19L7dcPAI8y3IrcX0Zpyk89NFYXXEz1N2gnUWUHzuAF9VrMaC\n",
       "/y0fca1KxlB8PdEdvEj1WXmDI/Iwfm63V1aKxN5IYwuRoS7RkoNFFTObUV15pYldxZpNHlA8tjgx\n",
       "LKEo18KlZtcFc9moxgkesTiNEY4sbrOtGCCZzOJYmBR78RFTmdSSLtz3U2PRZLhYDpvbo4nxMSqp\n",
       "QDX4zuCSzvyTRrpCmZA75gw0BZsL+YqAAWRxDPAD7y7nHzBc/5x49A4QCYXtF153EHl/qph8zOM7\n",
       "t9U+HgfcIp9XPJq0VsGbltCy6XLs7cSQjeE5v/FXW8D2LWOAJAAUiMTfF7BbY2/xf3CFH93I02ws\n",
       "ChxOHcNcvU8Gl6fVUD6JZ/vMbHr762eHm5nDccOkkBO+x+ZE6o4HBQ5+oXPukyvhpldr2inboi14\n",
       "F/GW26ExZRM60d38MUMftIcPRZDKhXnoLGILO27GqynwcVcPY0KqRtPwGPBAz5A+LS1bM5kJGKyS\n",
       "fvrNVwAY56X1Zi0mqNYXddz6m1MDwGpNITstkcwHmMEqjEZbVbe1gbDpS65arF/DfqHtMGXCT2q0\n",
       "lJB7fy5/mRtMsUY1Byn4lAkTOvWKObNTguGT3RqowYi+zNvfVAkEC3mnvMCJtFSUTSDftHQWPSCs\n",
       "Zv8kPHDLbvhlrBTE7H/gvUCuqSgrEd8tLigRQU7zE10OgH9wIV/MtmugS/A7S0OyQnn0w4SadSr5\n",
       "fPbC3GbvxtI7sJvTym1qi+bDvfuJxsGQMUpMMxOvDf+deSGF11pXBgKM9SvzpeUvqyL8ucCLNO0G\n",
       "qeK2JHKqcY+5DdKGcVPmEqWOaed579k1m2tdwP1YNBcO6FeU5uGzNdMY+Jk5P3Ls81TCOFOJQH9r\n",
       "jj3vmVNSeySedqDjheGHjYgK6smRJmYt67hwecCUvsIGXSzffkSymqBWwcIKricOpISmZbsKUpYK\n",
       "uC8AqBxBVnxfLW8Tq7+KYPCQ0ceD2CF8thSQsJuPAoKB4XKYRLm5adYzWPEek/OTMMKC+zlrhFQM\n",
       "xeo0fZ73CXCYkKrJc3+CZYHmD6B1ebMm9tU9dZgh/88k6savIpYd5UqtGhps8zuw2ByFJKVnT0xy\n",
       "M438kw7dwXaHwJo/B54pW1ARPVlhsKMJGZ6CmJxr3trKDzeOjGMENJ0EGSTSmFk72nPrJ988ZZ5X\n",
       "s7HfapfBsJRY2lgW2AmyzQ7CHr8Z4qcfWFqUhSpKFQBqjEC6QyaXYysHvpDfQnV24ijCJQnXvFOR\n",
       "y+jyIt0hjrPSi1ThV/r3m6gcYqfUlKBuMJkViU2tZEy9N9nGAv6NMIvrZT3fsOjtqmVxMrwWZujp\n",
       "fNmgSceAuyTCHBWuqAQJwpPO8m+3091xfMSlYjHvItmmlW04/8opzE2lv4NkscRg7qMV7nLUFyBR\n",
       "UpGrd+OLmdEJZSe6Ide+/Bwy92Ml8BlOraRRqmFw30R7kIV1i931vCyM/SaQe8c+lNIfp/qexOTC\n",
       "w/xfP/dArDDnZdUl5Ki8KwmBrM4MonJLmqL/S+fkGsEELKiQ0JSNdiUkhP+CqwVBY7byUpXYmMdR\n",
       "zN2D/px2rOBJniJF0B7YjhkC5D2mAHSZPAn0oXQlRKNcTIRS8nm22NAr3PYTyW0sbq30zTFp116S\n",
       "voXWbc369sSa9x6eTSPKwKRBj9dMb+eaUGpCVCtCH1loWJsbJgg28i4ssI0UPISfWRDHfOvDuRKw\n",
       "SczQjgy6aEFxDn/PxZA5CR33C/t3o3BLJCChCOAIY1uHCFOymCduWdAnqgjZL/T3Kqm15aELheog\n",
       "RCShclDtKeTrcDY6bR2DeNSx0dxWniTlg5DBqPhWpmdXLv8g/y+AVKWarv4gTP2Apw2C40fCYzXZ\n",
       "q5O00FxZheIKDG3+dk/DfGtdjkIeO06rXyGBi+63YId7rpDR+gwb/llNoWNGgnowO2mZI3lA//49\n",
       "6Y7ovWfXTmkj5jibZwsYiQl7ruQKN9NRamtnC3JHEw9eBQx35lU70Gj7z7B+a/3FdcsiPNwYTCTf\n",
       "4CessE9ewWeVhL4zjNnvu6x6ozJAPZ7pB3zjEM69VDlsfPoQEkQFDf6kchTx+/MXi1ReEo7YoVro\n",
       "ZsARhSO5IUzkj9QVenahGkQMhtDvf8WozpPXfaVJ02Pv2HCPXE8O5zQU+L6xyYJVpV9pEECKRoj0\n",
       "sUvm1AFRBwkfJGoT4QBzkaoF6v8PPngXeWpQa2shigohSSEliKaUEnGP9GzdKMQIPrKZwFDmPntS\n",
       "/UnDGFzAH6rtBSDXXU4UTjckyaWxFQ5JUy99lTJSMe6gXErbD/uFH9elZ+OvVRZncH9vzptSeV+8\n",
       "fLhy9Nus6cnnSK3CKgwD1pip1yLl7gKp2qi7IWe65fNHiIMbkXWYQONg5tLH7A+sVqS3lCyKphTw\n",
       "e1l8s9uqTDT4xkgrL5iTmpO/wqJ4+w0VFMw+DqSkDf4ActBV5AT679CQ07ugdtVRpyLg/0MMSfTu\n",
       "zqiNuwY4yxu/LVMhPPMWvFBrbbO5OLa4YEMsn+tvauPSPnH3/GZE3YTFFSeu09QXWBvOkzVtnxKW\n",
       "7narquhpkTScXuZxC4EJxhz6ueRTbNtI8AbulXNeDMC6Ehfw0W+o007II+g/pDsGYN8H4pDgv10q\n",
       "oO1+MWt797IIJrYkn9IQGCSFGNxqHJCmakC1nERrsNFC2NpmksLJlhZLyv2U3IMqlidVmNYxw+2m\n",
       "AxcwAlg2w69MxEM5osIwu5ceu/cLPwZyz/GRGbe0iIem3NYYSqueTM2ZL9zflWm8kBCEXk13Pul4\n",
       "QIjyBszIaUAsL8TIu2SOR5I4KMP0BAcVQyr5s11u5m38H27+BwmFfr5vycki8BFTEKrDEcdhgQ1s\n",
       "2lMhw4CRb22tAXKrFy+u+/2lDnU5b023769tt7Eucqq7aVzZVSN8zVwWWAxBBo2DQFW4uoGROK2i\n",
       "8Vt3eGRpYCTM2k1vBHoCooRJPt4JO5oprLvR4SX5HkFR2+jDywn9WgQznJn7cQJ0t/ViVI7iYh13\n",
       "Lfn5wgxOAQyaNXG5U7fpytEs0xMefksM08cCJgi4wjP/3A/ZfLEo6MNQWplBrLlA2Lb514++HXDL\n",
       "Xup5DdLr7LV3FGyfUQvglQkAddtHx2NGQbUpScA78EEIS3tLLOmLXsz7ZrYvWkrap5aQ7ZYtCPpB\n",
       "AXF1FyBZkM1Ll1rvMFXDpi37NRnZJm+p2Owz2SMdq+KOgTloJGE3tIk7dpkRmArdiNSi/RTZF0qa\n",
       "dNLrdKttQyS31B7jdJGKFbu+550JTzRPAHeKhqXOc75TsooR3evST/ZiN8M+p/EaVSiDSjT7whHA\n",
       "qYkX6GOTdEEwcui8YZYUSGl3eMwmFPU3WgyhgL8qf6SN830PeB2N4qoRyt4kFqRoHtE6fQADwMIV\n",
       "GqDYTns6QTy9+m4NZ5bzslRL6pQgaa/HZT9N1hkOvJ5FT4h8DfjduWWYxfZjs2OqSUphmm2NpFNa\n",
       "hR3VVA3g51m0DrkXiQLM2gKjJFA4RpraFvYr3fiyXB8td8r91OHdsinIovLA9MPxkHYHUxYobXEF\n",
       "V8FsR1XyCoLAsec2HxNg4fhWVh1/NoBAtVx5h/t6ivpAHC4jrkhK881DAvH3Bq5KRyZupLiupUIV\n",
       "PesJ3TsFNVBmh/RTosf67G0yt0DtPVUtpFLofrFiT1zTmPs9I38AuoJk0h+dqFiI/1M+k0KxKks4\n",
       "1R69f2BLuIqgM4MSYydjEsEDw3f4qv2Chh+rWJL9ipAq2GonXWwS9pQolQd0brPCIyO+2UZtdwNo\n",
       "mc33XuH+vrTkx9nm2vFQAuYAdJgjXhIvh1HCZnQR/8aT0U54e9j/k354/DcETRZ9/2kT6fgXYC4/\n",
       "qSGJqr+Ef4iYXeo/+gs1SYgBZKe1RCTaZr8VkvT33r0dwBOe5uveNjl3Hby4k9GCMRAtoaJSRsIj\n",
       "JtTinutspW5H8NhOfkUxuMviJEZpAuq7dlbX4Ieljx7Ct8ZKkSBUQWoO1P3BvYlhfvB8zqBpWS2S\n",
       "++GxZepidxo6OKxgZeHqUIKBoma8xjfY8Gwk/DQctjhs6tyutII3VYbHyVkwN/SBkTUH80UPpGBJ\n",
       "dHnZHCMB8XHOVWZsKieLO5lMJ8+Sem8qahYslKvUGaRDuXnCjWghDBJ4CM8itrG+Ol4U0g1rzLiw\n",
       "qSAJQVTg3Za1o6+ioWwtZKdvlmU9UM97Nm02e9IE2FpOXtHKUStvNwysfru9ymqVoz073imLqXff\n",
       "Jbav6bQ8BkdcTBAV5rHsmMQJt9qGY8S+BcPeCc5Ny8Nd+y+e8xChPuP7//QMAojAY2tO4pqHjtT+\n",
       "47kyyutMHfTi2Rgu9u4ewxz7xxbXMsEtzQsQJGqYlSdfD/y2pUK7yelONq7Hvrit7wYrQ0GMRGvw\n",
       "LpLn3+kF108VdVHfK0HX3g87R1S2vzezrPBSI43zOGSr8NqueqLEPXca14mYPzTk6C5wMSUylsMb\n",
       "UmGJGPUJmii9y/D7d09UXgRvJVd3rancmFYKfl6m9H1uBPlSJzlY0MITzMP61SIoWF7V53WzUIC0\n",
       "mHcBlA8UXzu9adOm1pZpKulR15dZh3MTWXnbspSAR1kOp2TTbGCqCaj8vkQSlbuEbthGSAh7z4Zp\n",
       "j1n4eRgSumJAtYtI0nAwAmEgdAt22O1fC58v5f24BOesA5D2Io4+1Qrj+QnLK6SMqgW2b2youmig\n",
       "Yi4uQtJZXkjiEyX8zI2Pu/mjiENHDnrJYdGNCDuHKwK7UjxcY0F5XJmBlv8h0fc4i6dlVhqCQQ+5\n",
       "sSnLPs+Y4LxhA7x8BgrZtbAEuKS6AiwgD9BW7aKuV1XSRPiAXOcHPWHp5WnvlGjtP4iubVb+N1pG\n",
       "Bijmh+TBTaWWx6aDCr6qryKTRfscolGjqHUz5mDU2VcXHdjkdc5ZwshUlEWoNm3CZLncEj9Jao4p\n",
       "Y8az6z6vnXL06axK9YhwlC3hB0JkPsUAMiiPLJeOn3EZM3mnkOgIIUwrES/o1rRXLLTCYPuT/noX\n",
       "aokj5U8Dl2t+NmpV7qAtZv1uX0IHZImaYm2h1pUsvOW06hMO8cUtkayn8b8Mq3kGYMx9ELGBTU9k\n",
       "UxlagoqmQyZfJgXtPOrauEddLLDbKkgJdzs+5XMMo3LFgUMfbw2Dll/upX+PC2oSYk77N45USuJw\n",
       "Nd8GEBuFbcSsDcAZB7Idtca1oyG4bzqw9qqhU76CnbxOCH6M2Hf3dlhPTEl/qr1ehqm7CqcYrVM/\n",
       "g1ghedJtfKbg5+soEJp9xgoeKMnoBKTdsXyURYWsZS28RZ7WQuVmMcechDRnQxP79ez2+KRbvys9\n",
       "KwXQe+sqtw5YHcBIEEpvc19h+2CDxNu0lXeu/bzLTIy86GhLEAWMWvs44pvmLpRVlypVMPyqhrsd\n",
       "T0xteUPpSLsHkyb98ajurTIL+hv5ih+U/QaKIC7GPhCAuIII90YJ1dGpXIBP77xNck4ys8959yek\n",
       "VZRq2s5Pyu8SWNL/rchFjoTfDigFVzkqb2HMrsKN1W7KMQeX5ZX18XYhF9JBOgdY9k/JEIhdKFGS\n",
       "xDiGqt2ZhIYXS4rJE94JGT2eA4zILibny8DJK4C8rayIm0uLcLA9aYT1UucgAaDhNxzOYQ36if17\n",
       "7EMB6w3YkNiu475HxYXtpOAwM1M0exJQx3B1b50jfl1EDCF4odKpIniypOPOAFkaJVSnAIt16hom\n",
       "x7MCwInlHRUzTE4rDZwWKX2rwnvm/OnbqeFRTdXLS6Vf8raLZUNWgl8D6neuf/QEX4WctFL0am2R\n",
       "EiKERsLgBHL2KkAWTCBRZTkrpquttq+5ixRaHWUFlw5bdcZ71TBOU3jCr30JI74r3N9YjEOAvlsz\n",
       "NP9+qj9LcImf5c7GqwOZv9fpyu+grJTeT/tEM66RI7ffaVHLkFgHXNc0RBnbONH2nk15ISKezBBw\n",
       "VVDtSo2wm8udQ7BNYug6LkJGNgHbpW30ai3C3WT2jhr5QCgHoWXj1o0MAzTkE2EFyCXsskZVApAE\n",
       "K1lsPfevGi2DAqdkqEFeqrKr5iJ8EgbmFpGAsd0Od/4H2S3GxUesBXs25LPXuQ3U02dhK5MM0KN9\n",
       "PsstbZ/r006ZlYO5UAfvuQO4CKlX1Io53Wa4XVfWydEIV1NDVwaWzoyFvfYuKAiMLLek/veugNyi\n",
       "FN3IKLzlU2Rl9gItbZPOLGqMC6ds5B1AvaW2SQe0oUDFP4bWHH8Iem68zLxWlp9PJfCtOeF2UTtH\n",
       "U9W6lYM6onqrcMoTmnnuHj5DtY59CGJdwOvqJtXyEJlgIUO52Djv3KI8gG7JyGclaSomJuUWaGI2\n",
       "PlIvPT25L49mvzPS4deOVl6PfocWQ4f5h4WKWgsbnu4MZfOZHcSaMet6kGxvjDllrSxlu/5w91yx\n",
       "oCdZJ580T/uU6QGBKzw1AHOiPl/z0/5scwZql7nGFxCURMC7Q4tyOjwHw0PTzbotiN05xDwvTQfu\n",
       "/U4ccfWtL/OI7dq4AZmQ6nK7Kw0Rs4NFGV6Eu5zp7zQLMaQhy5+23FavvsNujiwl1pduVJnrF1dE\n",
       "LeFlTPkjWXRMB6OofrhsgixMahV2mhOfB/oB7xXsp88PnAddl5MSDz2xBTKAwfxi10sUE7VcmCNK\n",
       "uLN3DcMz1tFlP4eCrBV5XPPToCEl18dAshaW1zMyLckoFBEds1y9UXWLsiKm/Hjef+VGF3xWYgFQ\n",
       "kXM1MtEXsK6+ihJFtRplMmSf0l6+VDQXMh98if7Kd4mh189QN2Je1a+NoF53QRretlZVyrqfp//u\n",
       "uw0FN8JZRcrHZ4xH6pEZ1Po8fnKxCD4lsJ2729hLUaso2HNF8xTznbyXhk8Bx1LDw0hNEegYQUOn\n",
       "f0xKqPq+M9FOAgl/vESucWq5SQ97sIi2IrsntWZEn/orNX8XlyD9ZBFWSsDnIT/SngOWVxfBFheW\n",
       "p2T/IJkoOtLYKcf/1cGrSpMiB3wa6VQl12pUFwlt1M+aOYgU+wVrzcFvmWpbpoQaoac3kmHIGCIE\n",
       "SnOkjNbfGoDXMVBHyg0yMXa8Z9oMJSgRbL44k7XO6Jj4Rm//u7VoClirv4U9aabrxbcoDCaVwnqu\n",
       "PNe3vWWH+2HHeLyJQ+fn6KOKMh03V3+x69NnTpnPUV25q6Re14Qo+sAPpTUoQyrDA+zxG62VGO2k\n",
       "05ePKHhD9WwYgJHkOD9+BfXDV710WZvgD9JFE+HtUv70/WvfnmudDM8tVEjtABCzEO2yrfLa3wiD\n",
       "9J2R3Cft5g0XgdH5xQmbcohlP+PYUPhyVUUfDA17y65bpWwkiIuwsvZPMgXseM9mqIuBz6H4Nk4B\n",
       "BE4By4eeaW6cnu8IFVGpjCJzYawQcPC1GQAlJJ/iW851cRqP435tV73uwBRrV4RXFdCJHOJlB2gN\n",
       "hHiLdag/WrzMtKGIqip6jYX/lIVV++yqLM6G1RvN1+qxNXM8baoU5LnekjTKAUGqM6tDlVqizI1N\n",
       "T9SmZqOGpn0wGVP0T57++YFV1ZIDAiRsZQ8LDsNb5O/b7bODd1NLikiDTsT242304NR0n9HaASy2\n",
       "5qI0mkCpEWdQsl8/0/1bwUD1NJR3gWcfcEhuaw5slvYG2Kp7Dwdteyz/KOyWsvG30Xw+GZCGE5Xe\n",
       "DK09i2BR4y/Tn3dxOwIAAAMmbW9vdgAAAGxtdmhkAAAAAAAAAAAAAAAAAAAD6AAAB9AAAQAAAQAA\n",
       "AAAAAAAAAAAAAAEAAAAAAAAAAAAAAAAAAAABAAAAAAAAAAAAAAAAAABAAAAAAAAAAAAAAAAAAAAA\n",
       "AAAAAAAAAAAAAAAAAAAAAgAAAlB0cmFrAAAAXHRraGQAAAADAAAAAAAAAAAAAAABAAAAAAAAB9AA\n",
       "AAAAAAAAAAAAAAAAAAAAAAEAAAAAAAAAAAAAAAAAAAABAAAAAAAAAAAAAAAAAABAAAAAAkAAAAEg\n",
       "AAAAAAAkZWR0cwAAABxlbHN0AAAAAAAAAAEAAAfQAAAAAAABAAAAAAHIbWRpYQAAACBtZGhkAAAA\n",
       "AAAAAAAAAAAAAABAAAAAgABVxAAAAAAALWhkbHIAAAAAAAAAAHZpZGUAAAAAAAAAAAAAAABWaWRl\n",
       "b0hhbmRsZXIAAAABc21pbmYAAAAUdm1oZAAAAAEAAAAAAAAAAAAAACRkaW5mAAAAHGRyZWYAAAAA\n",
       "AAAAAQAAAAx1cmwgAAAAAQAAATNzdGJsAAAAs3N0c2QAAAAAAAAAAQAAAKNhdmMxAAAAAAAAAAEA\n",
       "AAAAAAAAAAAAAAAAAAAAAkABIABIAAAASAAAAAAAAAABAAAAAAAAAAAAAAAAAAAAAAAAAAAAAAAA\n",
       "AAAAAAAAAAAAGP//AAAAMWF2Y0MBZAAV/+EAGGdkABWs2UCQJaEAAAMAAQAAAwACDxYtlgEABmjr\n",
       "48siwAAAABx1dWlka2hA8l8kT8W6OaUbzwMj8wAAAAAAAAAYc3R0cwAAAAAAAAABAAAAAgAAQAAA\n",
       "AAAUc3RzcwAAAAAAAAABAAAAAQAAABxzdHNjAAAAAAAAAAEAAAABAAAAAgAAAAEAAAAcc3RzegAA\n",
       "AAAAAAAAAAAAAgAAGhkAABk4AAAAFHN0Y28AAAAAAAAAAQAAACwAAABidWR0YQAAAFptZXRhAAAA\n",
       "AAAAACFoZGxyAAAAAAAAAABtZGlyYXBwbAAAAAAAAAAAAAAAAC1pbHN0AAAAJal0b28AAAAdZGF0\n",
       "YQAAAAEAAAAATGF2ZjU2LjQwLjEwMQ==\n",
       "\">\n",
       "  Your browser does not support the video tag.\n",
       "</video>"
      ],
      "text/plain": [
       "<matplotlib.animation.FuncAnimation at 0x7fe023ba8518>"
      ]
     },
     "execution_count": 28,
     "metadata": {},
     "output_type": "execute_result"
    }
   ],
   "source": [
    "fig, axes = plt.subplots(figsize=(8, 4))\n",
    "plt.title('Soluton animation')\n",
    "plt.xlim(X[0], X[-1]) \n",
    "plt.ylim(-0.2*np.abs(A), 1.2*np.abs(A))\n",
    "line1, = axes.plot([], [], lw=2)\n",
    "line2, = axes.plot([], [], lw=2)\n",
    "time_template = 'time = %.4f'\n",
    "time_text = axes.text(0.8, 0.9, '', transform=axes.transAxes)\n",
    "plt.minorticks_on()\n",
    "plt.close()\n",
    "dx = (X[-1] - X[0]) / pN\n",
    "\n",
    "def plot_frame(i):\n",
    "    axes.set_xlim(X[0] + V*T_saved[i], X[-1] + V*T_saved[i])\n",
    "    r = -int(np.round((V*T_saved[i] - X[0])/dx))\n",
    "    line1.set_data(X + V*T_saved[i], np.abs(U[i]))\n",
    "    #line2.set_data(X + V*T_saved[i], np.roll(np.abs(soliton(X, T_saved[i])[0]), r))\n",
    "    #line2.set_data(X + V*T_saved[i], np.abs(soliton(X, 0)[0]))\n",
    "    time_text.set_text(time_template % T_saved[i])\n",
    "    fig.canvas.draw()\n",
    "    return fig\n",
    "\n",
    "matplotlib.animation.FuncAnimation(fig, plot_frame, frames=len(U), interval=1000, repeat=False)"
   ]
  },
  {
   "cell_type": "code",
   "execution_count": 25,
   "metadata": {},
   "outputs": [
    {
     "data": {
      "image/png": "[encoded data removed]",
      "text/plain": [
       "<Figure size 432x288 with 1 Axes>"
      ]
     },
     "metadata": {
      "needs_background": "light"
     },
     "output_type": "display_data"
    }
   ],
   "source": [
    "ti = -1\n",
    "plt.plot(X, -U[ti], X, -soliton(X, T_saved[ti])[0])\n",
    "plt.show()"
   ]
  },
  {
   "cell_type": "code",
   "execution_count": 32,
   "metadata": {},
   "outputs": [
    {
     "data": {
      "image/png": "[encoded data removed]",
      "text/plain": [
       "<matplotlib.figure.Figure at 0x7f3db20dbb00>"
      ]
     },
     "metadata": {},
     "output_type": "display_data"
    }
   ],
   "source": [
    "ti = -1\n",
    "plt.plot(X, -U[ti], X, -soliton(X, T_saved[ti])[0])\n",
    "plt.show()"
   ]
  },
  {
   "cell_type": "markdown",
   "metadata": {},
   "source": [
    "Old solution method"
   ]
  },
  {
   "cell_type": "code",
   "execution_count": null,
   "metadata": {
    "collapsed": true
   },
   "outputs": [],
   "source": [
    "U = []\n",
    "r = sp.integrate.complex_ode(der4).set_integrator('dop853', rtol=1e-10, atol=1e-10, nsteps=1e4)\n",
    "r.set_initial_value(np.concatenate((u0, v0, w0, q0)))\n",
    "for t in T:\n",
    "    if t > 0:\n",
    "        r.integrate(t)\n",
    "    u, v, w, q = r.y.reshape(4, -1)\n",
    "    u[hfreq1:hfreq2] = 0\n",
    "    U.append(np.fft.ifft(u).real)"
   ]
  }
 ],
 "metadata": {
  "kernelspec": {
   "display_name": "Python 3",
   "language": "python",
   "name": "python3"
  },
  "language_info": {
   "codemirror_mode": {
    "name": "ipython",
    "version": 3
   },
   "file_extension": ".py",
   "mimetype": "text/x-python",
   "name": "python",
   "nbconvert_exporter": "python",
   "pygments_lexer": "ipython3",
   "version": "3.7.1"
  }
 },
 "nbformat": 4,
 "nbformat_minor": 2
}
